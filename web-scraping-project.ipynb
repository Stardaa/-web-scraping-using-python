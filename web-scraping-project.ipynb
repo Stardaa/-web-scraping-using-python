{
 "cells": [
  {
   "cell_type": "markdown",
   "id": "55a911e1",
   "metadata": {},
   "source": [
    "# Scraping Top Companies in the world from Forbes by Using Python"
   ]
  },
  {
   "cell_type": "markdown",
   "id": "846f5a8e",
   "metadata": {},
   "source": [
    "\n",
    "![](https://i.imgur.com/KiAL5K7.jpg)\n",
    "\n",
    "Web scraping is the process of extracting and parsing data from websites in an automated fashion using a computer program. It's a useful technique for creating datasets for research and learning. Mostly it is unstructured html data which is then converted into structured data and stored in spreadsheet or in database format.\n",
    "\n",
    "Web scraping technique is used to fetch data from websites. While surfing on the web, many websites don’t allow the user to save data for personal use. One way is to manually copy-paste the data, which both tedious and time-consuming. Web Scraping is the automation of the data extraction process from websites. This event is done with the help of web scraping software known as web scrapers. They automatically load and extract data from the websites based on user requirements. These can be custom built to work for one site or can be configured to work with any website."
   ]
  },
  {
   "cell_type": "markdown",
   "id": "b51e61b0",
   "metadata": {},
   "source": [
    "# Forbes\n",
    "![](https://i.imgur.com/EtbdQYu.png)\n",
    "\n",
    "* Forbes is an American business magazine owned by Integrated Whale Media Investments and the Forbes family. Published eight times a year, it features articles on finance, industry, investing, and marketing topics. Forbes also reports on related subjects such as technology, communications, science, politics, and law. It is based in Jersey City, New Jersey. Competitors in the national business magazine category include Fortune and Bloomberg Businessweek. Forbes has an international edition in Asia as well as editions produced under license in 27 countries and regions worldwide.\n",
    "\n",
    "* The magazine is well known for its lists and rankings, including of the richest Americans (the Forbes 400), of the America's Wealthiest Celebrities, of the world's top companies (the Forbes Global 2000), Forbes list of the World's Most Powerful People, and The World's Billionaires.The motto of Forbes magazine is \"Change the World\".[5] Its chair and editor-in-chief is Steve Forbes, and its CEO is Mike Federle. In 2014, it was sold to a Hong Kong–based investment group, Integrated Whale Media Investments."
   ]
  },
  {
   "cell_type": "markdown",
   "id": "861d6f1f",
   "metadata": {},
   "source": [
    "## Objective:\n",
    "Scraping Top Comapnies in the world in each creative field by parsing the information from this website in the form of Tabular data and saving those data in a csv files."
   ]
  },
  {
   "cell_type": "markdown",
   "id": "228374f6",
   "metadata": {},
   "source": [
    "## Project Outline:\n",
    "\n",
    "1. Understanding the structure of [Forbes Website](\"https://www.forbes.com/?sh=44b2a1d42254\")\n",
    "2. Installing and Importing required libraries \n",
    "3. Simulating the page and Extracting the URLs of different creative fields from website using `BeautifulSoup`\n",
    "4. Parsing the Top companies and storing as 7 different functions such as Rank,Name of the Company,Country,Sales,Profit,Assets,Market Value.\n",
    "5. Storing the extracted data into a dictionary.\n",
    "6. Compiling all the data into a DataFrame using `Pandas` and saving the data  into `CSV` file."
   ]
  },
  {
   "cell_type": "markdown",
   "id": "4f2dd75f",
   "metadata": {},
   "source": [
    "# Steps To Be Followed"
   ]
  },
  {
   "cell_type": "markdown",
   "id": "676dc12a",
   "metadata": {},
   "source": [
    "## 1. Use the requests library to download web pages"
   ]
  },
  {
   "cell_type": "code",
   "execution_count": 28,
   "id": "88d46789",
   "metadata": {},
   "outputs": [],
   "source": [
    "import requests\n",
    "from bs4 import BeautifulSoup"
   ]
  },
  {
   "cell_type": "code",
   "execution_count": 29,
   "id": "15f0df27",
   "metadata": {},
   "outputs": [],
   "source": [
    "topic_url = \"https://www.forbes.com/lists/global2000/\""
   ]
  },
  {
   "cell_type": "code",
   "execution_count": 30,
   "id": "070f5ed2",
   "metadata": {},
   "outputs": [],
   "source": [
    "response = requests.get(topic_url)\n",
    "#We use requests.get to download the content from a webpage\n",
    "response.status_code\n",
    "page_contents = response.text"
   ]
  },
  {
   "cell_type": "code",
   "execution_count": 31,
   "id": "4d70d455",
   "metadata": {},
   "outputs": [],
   "source": [
    "#Writing the page contents into a html file\n",
    "with open('top_companies.html', 'w', encoding=\"utf-8\") as f:\n",
    "    f.write(page_contents)"
   ]
  },
  {
   "cell_type": "code",
   "execution_count": 32,
   "id": "6b902c66",
   "metadata": {},
   "outputs": [
    {
     "data": {
      "text/plain": [
       "'<!DOCTYPE html><html lang=\"en\"><head><title>The Global 2000 2022</title><meta charset=\"utf-8\"><meta http-equiv=\"Content-Language\" content=\"en_US\"><link rel=\"shortcut icon\" href=\"https://i.forbesimg.com/48X48-F.png\"><meta name=\"referrer\" content=\"no-referrer-when-downgrade\"><link rel=\"canonical\" itemprop=\"url\" href=\"\"><meta name=\"viewport\" content=\"width=device-width,initial-scale=1,maximum-scale=5,minimum-scale=1,user-scalable=yes\"><meta name=\"description\" itemprop=\"description\" content=\"Despite'"
      ]
     },
     "execution_count": 32,
     "metadata": {},
     "output_type": "execute_result"
    }
   ],
   "source": [
    "page_contents[:500]"
   ]
  },
  {
   "cell_type": "markdown",
   "id": "f6d6f792",
   "metadata": {},
   "source": [
    "## 2. Use Beautiful Soup to parse and extract information"
   ]
  },
  {
   "cell_type": "code",
   "execution_count": 33,
   "id": "8411b896",
   "metadata": {},
   "outputs": [],
   "source": [
    "# Converting the page to  Beautiful soup document using html.parser\n",
    "doc = BeautifulSoup(page_contents, 'html.parser')\n",
    "a_tags = doc.find_all('a')"
   ]
  },
  {
   "cell_type": "code",
   "execution_count": 34,
   "id": "01ac3fee",
   "metadata": {},
   "outputs": [],
   "source": [
    "a1_tags = doc.find_all('a',{'class' : \"table-row active premiumProfile\"})"
   ]
  },
  {
   "cell_type": "markdown",
   "id": "d586f264",
   "metadata": {},
   "source": [
    "## 3. Extracting Company Details \n",
    "![](https://i.imgur.com/EK3ZcsO.png)"
   ]
  },
  {
   "cell_type": "code",
   "execution_count": 35,
   "id": "9a5c2524",
   "metadata": {},
   "outputs": [],
   "source": [
    "# Getting required tags for finding company details\n",
    "rank_tag = doc.find_all('div',{'class' : \"rank first table-cell rank\"})\n",
    "\n",
    "# name_tag for finding  name\n",
    "name_tag = doc.find_all('div',{'class' : \"organizationName second table-cell name\" })\n",
    "\n",
    "# country_tag for finding country\n",
    "country_tag = doc.find_all('div',{'class' : 'country table-cell country' })\n",
    "\n",
    "# sales_tag for finding sales\n",
    "sales_tag = doc.find_all('div',{'class' : 'revenue table-cell sales' })\n",
    "\n",
    "# profit_tag for finding profit\n",
    "profit_tag = doc.find_all('div',{'class' : 'profits table-cell profit' })\n",
    "\n",
    "# asset tag for finding asset\n",
    "asset_tag = doc.find_all('div',{'class' : 'assets table-cell assets' })\n",
    "\n",
    "# market_tag for finding market value\n",
    "market_tag = doc.find_all('div',{'class' : 'marketValue table-cell market value' })"
   ]
  },
  {
   "cell_type": "code",
   "execution_count": 36,
   "id": "767d9b87",
   "metadata": {},
   "outputs": [],
   "source": [
    "#function to get company url\n",
    "def get_account_link(doc):\n",
    "    account_url_tag = doc.find_all('a', {'class': 'table-row active'})\n",
    "    account_full_url = []\n",
    "    for tag in account_url_tag:\n",
    "        account_full_url.append(tag['href'])\n",
    "    return account_full_url"
   ]
  },
  {
   "cell_type": "code",
   "execution_count": 37,
   "id": "269a03a9",
   "metadata": {},
   "outputs": [],
   "source": [
    "account_full_url = get_account_link(doc)"
   ]
  },
  {
   "cell_type": "code",
   "execution_count": 38,
   "id": "27dc90f2",
   "metadata": {},
   "outputs": [],
   "source": [
    "#function to get rank\n",
    "def get_topic_rank(doc):  \n",
    "    topic_rank_tags = doc.find_all('div', {'class': 'rank first table-cell rank'})\n",
    "    topic_rank = []\n",
    "    for tag in topic_rank_tags:\n",
    "        topic_rank.append(tag.text)\n",
    "    return topic_rank\n",
    "\n",
    "#function to get name\n",
    "def get_topic_name(doc):  \n",
    "    topic_name_tags = doc.find_all('div', {'class': 'organizationName second table-cell name'})\n",
    "    topic_name = []\n",
    "    for tag in topic_name_tags:\n",
    "        topic_name.append(tag.text)\n",
    "    return topic_name\n",
    "\n",
    "#function to get country\n",
    "def get_topic_country(doc):  \n",
    "    topic_country_tags = doc.find_all('div', {'class': 'country table-cell country'})\n",
    "    topic_country = []\n",
    "    for tag in topic_country_tags:\n",
    "        topic_country.append(tag.text)\n",
    "    return topic_country\n",
    "\n",
    "#function to get sales\n",
    "def get_topic_sales(doc):  \n",
    "    topic_sales_tags = doc.find_all('div', {'class': 'revenue table-cell sales'})\n",
    "    topic_sales = []\n",
    "    for tag in topic_sales_tags:\n",
    "        topic_sales.append(tag.text)\n",
    "    return topic_sales\n",
    "\n",
    "#function to get profit\n",
    "def get_topic_profit(doc):  \n",
    "    topic_profit_tags = doc.find_all('div', {'class': 'profits table-cell profit'})\n",
    "    topic_profit = []\n",
    "    for tag in topic_profit_tags:\n",
    "        topic_profit.append(tag.text)\n",
    "    return topic_profit\n",
    "\n",
    "#function to get assets\n",
    "def get_topic_assets(doc):  \n",
    "    topic_assets_tags = doc.find_all('div', {'class': 'assets table-cell assets'})\n",
    "    topic_assets = []\n",
    "    for tag in topic_assets_tags:\n",
    "        topic_assets.append(tag.text)\n",
    "    return topic_assets\n",
    "\n",
    "#function to get market value\n",
    "def get_topic_market(doc):  \n",
    "    topic_market_tags = doc.find_all('div', {'class': 'marketValue table-cell market value'})\n",
    "    topic_market = []\n",
    "    for tag in topic_market_tags:\n",
    "        topic_market.append(tag.text)\n",
    "    return topic_market"
   ]
  },
  {
   "cell_type": "markdown",
   "id": "dfd940ac",
   "metadata": {},
   "source": [
    "## 4. Storing all the Extracted data into a Dictionary and returning Data Frame"
   ]
  },
  {
   "cell_type": "code",
   "execution_count": 39,
   "id": "55839acc",
   "metadata": {},
   "outputs": [],
   "source": [
    "import pandas as pd\n",
    "\n",
    "topics_dict = {\n",
    "        'Rank': get_topic_rank(doc),\n",
    "        'Name of the Company': get_topic_name(doc),\n",
    "        'Country': get_topic_country(doc),\n",
    "        'Sales': get_topic_sales(doc),\n",
    "        'Profit': get_topic_profit(doc),\n",
    "        'Assets': get_topic_assets(doc),\n",
    "        'Market Value': get_topic_market(doc),\n",
    "    }"
   ]
  },
  {
   "cell_type": "code",
   "execution_count": 40,
   "id": "e65cdabd",
   "metadata": {},
   "outputs": [],
   "source": [
    "import pandas as pd\n",
    "# Storing obtained data in Dataframe\n",
    "company_Df = pd.DataFrame(topics_dict)"
   ]
  },
  {
   "cell_type": "code",
   "execution_count": 41,
   "id": "552aadea",
   "metadata": {},
   "outputs": [
    {
     "data": {
      "text/html": [
       "<div>\n",
       "<style scoped>\n",
       "    .dataframe tbody tr th:only-of-type {\n",
       "        vertical-align: middle;\n",
       "    }\n",
       "\n",
       "    .dataframe tbody tr th {\n",
       "        vertical-align: top;\n",
       "    }\n",
       "\n",
       "    .dataframe thead th {\n",
       "        text-align: right;\n",
       "    }\n",
       "</style>\n",
       "<table border=\"1\" class=\"dataframe\">\n",
       "  <thead>\n",
       "    <tr style=\"text-align: right;\">\n",
       "      <th></th>\n",
       "      <th>Rank</th>\n",
       "      <th>Name of the Company</th>\n",
       "      <th>Country</th>\n",
       "      <th>Sales</th>\n",
       "      <th>Profit</th>\n",
       "      <th>Assets</th>\n",
       "      <th>Market Value</th>\n",
       "    </tr>\n",
       "  </thead>\n",
       "  <tbody>\n",
       "    <tr>\n",
       "      <th>0</th>\n",
       "      <td>1.</td>\n",
       "      <td>Berkshire Hathaway</td>\n",
       "      <td>United States</td>\n",
       "      <td>$276.09 B</td>\n",
       "      <td>$89.8 B</td>\n",
       "      <td>$958.78 B</td>\n",
       "      <td>$741.48 B</td>\n",
       "    </tr>\n",
       "    <tr>\n",
       "      <th>1</th>\n",
       "      <td>2.</td>\n",
       "      <td>ICBC</td>\n",
       "      <td>China</td>\n",
       "      <td>$208.13 B</td>\n",
       "      <td>$54.03 B</td>\n",
       "      <td>$5,518.51 B</td>\n",
       "      <td>$214.43 B</td>\n",
       "    </tr>\n",
       "    <tr>\n",
       "      <th>2</th>\n",
       "      <td>3.</td>\n",
       "      <td>Saudi Arabian Oil Company (Saudi Aramco)</td>\n",
       "      <td>Saudi Arabia</td>\n",
       "      <td>$400.38 B</td>\n",
       "      <td>$105.36 B</td>\n",
       "      <td>$576.04 B</td>\n",
       "      <td>$2,292.08 B</td>\n",
       "    </tr>\n",
       "    <tr>\n",
       "      <th>3</th>\n",
       "      <td>4.</td>\n",
       "      <td>JPMorgan Chase</td>\n",
       "      <td>United States</td>\n",
       "      <td>$124.54 B</td>\n",
       "      <td>$42.12 B</td>\n",
       "      <td>$3,954.69 B</td>\n",
       "      <td>$374.45 B</td>\n",
       "    </tr>\n",
       "    <tr>\n",
       "      <th>4</th>\n",
       "      <td>5.</td>\n",
       "      <td>China Construction Bank</td>\n",
       "      <td>China</td>\n",
       "      <td>$202.07 B</td>\n",
       "      <td>$46.89 B</td>\n",
       "      <td>$4,746.95 B</td>\n",
       "      <td>$181.32 B</td>\n",
       "    </tr>\n",
       "    <tr>\n",
       "      <th>...</th>\n",
       "      <td>...</td>\n",
       "      <td>...</td>\n",
       "      <td>...</td>\n",
       "      <td>...</td>\n",
       "      <td>...</td>\n",
       "      <td>...</td>\n",
       "      <td>...</td>\n",
       "    </tr>\n",
       "    <tr>\n",
       "      <th>1995</th>\n",
       "      <td>1995.</td>\n",
       "      <td>Shenzhen Feima International Supply Chain</td>\n",
       "      <td>China</td>\n",
       "      <td>$37 M</td>\n",
       "      <td>$1.41 B</td>\n",
       "      <td>$166 M</td>\n",
       "      <td>$1.14 B</td>\n",
       "    </tr>\n",
       "    <tr>\n",
       "      <th>1996</th>\n",
       "      <td>1997.</td>\n",
       "      <td>NMDC</td>\n",
       "      <td>India</td>\n",
       "      <td>$3.52 B</td>\n",
       "      <td>$1.41 B</td>\n",
       "      <td>$5.71 B</td>\n",
       "      <td>$6.4 B</td>\n",
       "    </tr>\n",
       "    <tr>\n",
       "      <th>1997</th>\n",
       "      <td>1997.</td>\n",
       "      <td>Sichuan Changhong Electric</td>\n",
       "      <td>China</td>\n",
       "      <td>$15.72 B</td>\n",
       "      <td>$53.1 M</td>\n",
       "      <td>$12.11 B</td>\n",
       "      <td>$1.96 B</td>\n",
       "    </tr>\n",
       "    <tr>\n",
       "      <th>1998</th>\n",
       "      <td>1999.</td>\n",
       "      <td>Satellite Chemical</td>\n",
       "      <td>China</td>\n",
       "      <td>$4.41 B</td>\n",
       "      <td>$931.3 M</td>\n",
       "      <td>$7.64 B</td>\n",
       "      <td>$9.52 B</td>\n",
       "    </tr>\n",
       "    <tr>\n",
       "      <th>1999</th>\n",
       "      <td>2000.</td>\n",
       "      <td>Credit Bank of Moscow</td>\n",
       "      <td>Russia</td>\n",
       "      <td>$2.53 B</td>\n",
       "      <td>$370.1 M</td>\n",
       "      <td>$45.15 B</td>\n",
       "      <td>$2.06 B</td>\n",
       "    </tr>\n",
       "  </tbody>\n",
       "</table>\n",
       "<p>2000 rows × 7 columns</p>\n",
       "</div>"
      ],
      "text/plain": [
       "       Rank                        Name of the Company        Country  \\\n",
       "0        1.                         Berkshire Hathaway  United States   \n",
       "1        2.                                       ICBC          China   \n",
       "2        3.   Saudi Arabian Oil Company (Saudi Aramco)   Saudi Arabia   \n",
       "3        4.                             JPMorgan Chase  United States   \n",
       "4        5.                    China Construction Bank          China   \n",
       "...     ...                                        ...            ...   \n",
       "1995  1995.  Shenzhen Feima International Supply Chain          China   \n",
       "1996  1997.                                       NMDC          India   \n",
       "1997  1997.                 Sichuan Changhong Electric          China   \n",
       "1998  1999.                         Satellite Chemical          China   \n",
       "1999  2000.                      Credit Bank of Moscow         Russia   \n",
       "\n",
       "          Sales     Profit       Assets Market Value  \n",
       "0     $276.09 B    $89.8 B    $958.78 B    $741.48 B  \n",
       "1     $208.13 B   $54.03 B  $5,518.51 B    $214.43 B  \n",
       "2     $400.38 B  $105.36 B    $576.04 B  $2,292.08 B  \n",
       "3     $124.54 B   $42.12 B  $3,954.69 B    $374.45 B  \n",
       "4     $202.07 B   $46.89 B  $4,746.95 B    $181.32 B  \n",
       "...         ...        ...          ...          ...  \n",
       "1995      $37 M    $1.41 B       $166 M      $1.14 B  \n",
       "1996    $3.52 B    $1.41 B      $5.71 B       $6.4 B  \n",
       "1997   $15.72 B    $53.1 M     $12.11 B      $1.96 B  \n",
       "1998    $4.41 B   $931.3 M      $7.64 B      $9.52 B  \n",
       "1999    $2.53 B   $370.1 M     $45.15 B      $2.06 B  \n",
       "\n",
       "[2000 rows x 7 columns]"
      ]
     },
     "execution_count": 41,
     "metadata": {},
     "output_type": "execute_result"
    }
   ],
   "source": [
    "company_Df"
   ]
  },
  {
   "cell_type": "markdown",
   "id": "46849d80",
   "metadata": {},
   "source": [
    "## 5. Creating Folder and Saving CSV file(s) with the extracted information"
   ]
  },
  {
   "cell_type": "code",
   "execution_count": 42,
   "id": "081a2c8a",
   "metadata": {},
   "outputs": [],
   "source": [
    "import os\n",
    "# Creating folder\n",
    "os.makedirs('Comapny_Details', exist_ok=True)"
   ]
  },
  {
   "cell_type": "code",
   "execution_count": 43,
   "id": "59093225",
   "metadata": {},
   "outputs": [],
   "source": [
    "# Saving the data in csv files\n",
    "company_Df.to_csv('Comapny_Details/Top_Companies.csv', index=None)"
   ]
  },
  {
   "cell_type": "markdown",
   "id": "3e334a7d",
   "metadata": {},
   "source": [
    "## 6. Scraping each page to get Information of the each company"
   ]
  },
  {
   "cell_type": "markdown",
   "id": "6f3d3d4c",
   "metadata": {},
   "source": [
    "sraping first page\n",
    "![](https://i.imgur.com/2tFioGS.png)"
   ]
  },
  {
   "cell_type": "code",
   "execution_count": 44,
   "id": "732e4401",
   "metadata": {},
   "outputs": [
    {
     "data": {
      "text/plain": [
       "'https://www.forbes.com/companies/berkshire-hathaway/?list=global2000'"
      ]
     },
     "execution_count": 44,
     "metadata": {},
     "output_type": "execute_result"
    }
   ],
   "source": [
    "top1_url = account_full_url[0]\n",
    "top1_url"
   ]
  },
  {
   "cell_type": "code",
   "execution_count": 45,
   "id": "43cdcb5f",
   "metadata": {},
   "outputs": [],
   "source": [
    "response1 = requests.get(top1_url)\n",
    "response1.status_code\n",
    "topic_doc = BeautifulSoup(response1.text, 'html.parser')"
   ]
  },
  {
   "cell_type": "code",
   "execution_count": 46,
   "id": "a5d30c3b",
   "metadata": {},
   "outputs": [],
   "source": [
    "h1_tag = topic_doc.find_all('span', {'class': \"profile-stats__text\"})\n",
    "def get_comany_info(h1_tag):\n",
    "    # returns all the required info about a repository\n",
    "    a_tags = topic_doc.find_all('span', {'class': \"profile-stats__text\"})\n",
    "    industry = a_tags[1].text.strip()\n",
    "    founded = a_tags[3].text.strip()\n",
    "    Headquarters = a_tags[4].text.strip()\n",
    "    country = a_tags[6].text.strip()\n",
    "    Chief_Executive_Officer = a_tags[8].text.strip()\n",
    "    Employees = a_tags[10].text.strip()\n",
    "    \n",
    "    return industry,founded,Headquarters,country,Chief_Executive_Officer,Employees"
   ]
  },
  {
   "cell_type": "code",
   "execution_count": 47,
   "id": "bb6c1657",
   "metadata": {},
   "outputs": [
    {
     "data": {
      "text/plain": [
       "('Diversified Financials',\n",
       " '1939',\n",
       " 'Omaha, Nebraska',\n",
       " 'United States',\n",
       " 'Warren Edward Buffett',\n",
       " '372,000')"
      ]
     },
     "execution_count": 47,
     "metadata": {},
     "output_type": "execute_result"
    }
   ],
   "source": [
    "get_comany_info(h1_tag)"
   ]
  },
  {
   "cell_type": "markdown",
   "id": "e8677173",
   "metadata": {},
   "source": [
    "## 7.Getting information of top 250 companies"
   ]
  },
  {
   "cell_type": "code",
   "execution_count": 48,
   "id": "1f26724a",
   "metadata": {},
   "outputs": [],
   "source": [
    "account = account_full_url[0:250]"
   ]
  },
  {
   "cell_type": "code",
   "execution_count": 49,
   "id": "e743f610",
   "metadata": {},
   "outputs": [],
   "source": [
    "def get_company_page_info(channel_url):\n",
    "    response = requests.get(channel_url)\n",
    "    if response.status_code != 200:\n",
    "        raiseException('Failed to load page{}'.format(page_url))\n",
    "    doc12 = BeautifulSoup(response.text, 'html.parser')\n",
    "    return doc12\n",
    "\n",
    "def get_company_info(channel_url):\n",
    "    doc12 = get_company_page_info(channel_url)\n",
    "    \n",
    "    names = doc12.find_all('div', {'class':\"listuser-header__name\"})\n",
    "    company  = doc12.find_all('span', {'class': \"profile-stats__text\"})\n",
    "    revenue = doc12.find_all('div', {'class':\"listuser-financial-item__value\"})\n",
    "    Name = names[0].text.strip()\n",
    "    Industry = company[1].text.strip()\n",
    "    Founded = company[3].text.strip()\n",
    "    Headquarters = company[5].text.strip()\n",
    "    CEO = company[8].text.strip()\n",
    "    Revenue = revenue[0].text.strip()\n",
    "    Assets = revenue[1].text.strip()\n",
    "    Profits = revenue[2].text.strip()\n",
    "  \n",
    "    return Name, Industry, Founded, Headquarters, CEO, Revenue, Assets, Profits \n",
    "    \n",
    "def get_final_dict(account):\n",
    "    \n",
    "    company_Dictionary = {\n",
    "        'Name of Company' : [],\n",
    "        'Industry' : [],\n",
    "        'Founded' : [],\n",
    "        'Headquarters' : [],\n",
    "        'CEO' : [],\n",
    "        'Revenue' : [],\n",
    "        'Assets' : [],\n",
    "        'Profits' : []\n",
    "    } \n",
    "\n",
    "    for i in range(len(account)):\n",
    "  \n",
    "        details = get_company_info(account[i])\n",
    "        company_Dictionary['Name of Company'].append(details[0])\n",
    "        company_Dictionary['Industry'].append(details[1])\n",
    "        company_Dictionary['Founded'].append(details[2])\n",
    "        company_Dictionary['Headquarters'].append(details[3])\n",
    "        company_Dictionary['CEO'].append(details[4])\n",
    "        company_Dictionary['Revenue'].append(details[5])\n",
    "        company_Dictionary['Assets'].append(details[6])\n",
    "        company_Dictionary['Profits'].append(details[7])\n",
    "          \n",
    "    return pd.DataFrame(company_Dictionary)        "
   ]
  },
  {
   "cell_type": "code",
   "execution_count": 50,
   "id": "2b27462e",
   "metadata": {},
   "outputs": [
    {
     "name": "stdout",
     "output_type": "stream",
     "text": [
      "CPU times: user 29.6 s, sys: 294 ms, total: 29.9 s\n",
      "Wall time: 47.2 s\n"
     ]
    },
    {
     "data": {
      "text/html": [
       "<div>\n",
       "<style scoped>\n",
       "    .dataframe tbody tr th:only-of-type {\n",
       "        vertical-align: middle;\n",
       "    }\n",
       "\n",
       "    .dataframe tbody tr th {\n",
       "        vertical-align: top;\n",
       "    }\n",
       "\n",
       "    .dataframe thead th {\n",
       "        text-align: right;\n",
       "    }\n",
       "</style>\n",
       "<table border=\"1\" class=\"dataframe\">\n",
       "  <thead>\n",
       "    <tr style=\"text-align: right;\">\n",
       "      <th></th>\n",
       "      <th>Name of Company</th>\n",
       "      <th>Industry</th>\n",
       "      <th>Founded</th>\n",
       "      <th>Headquarters</th>\n",
       "      <th>CEO</th>\n",
       "      <th>Revenue</th>\n",
       "      <th>Assets</th>\n",
       "      <th>Profits</th>\n",
       "    </tr>\n",
       "  </thead>\n",
       "  <tbody>\n",
       "    <tr>\n",
       "      <th>0</th>\n",
       "      <td>Berkshire Hathaway</td>\n",
       "      <td>Diversified Financials</td>\n",
       "      <td>1939</td>\n",
       "      <td>Omaha, Nebraska</td>\n",
       "      <td>Warren Edward Buffett</td>\n",
       "      <td>$276.1B</td>\n",
       "      <td>$958.8B</td>\n",
       "      <td>$89.8B</td>\n",
       "    </tr>\n",
       "    <tr>\n",
       "      <th>1</th>\n",
       "      <td>ICBC</td>\n",
       "      <td>Banking</td>\n",
       "      <td>2011</td>\n",
       "      <td>Beijing</td>\n",
       "      <td>Shu Gu</td>\n",
       "      <td>$208.1B</td>\n",
       "      <td>$5.5T</td>\n",
       "      <td>$54B</td>\n",
       "    </tr>\n",
       "    <tr>\n",
       "      <th>2</th>\n",
       "      <td>Saudi Arabian Oil Company (Saudi Aramco)</td>\n",
       "      <td>Oil &amp; Gas Operations</td>\n",
       "      <td>1933</td>\n",
       "      <td>Dhahran</td>\n",
       "      <td>Amin bin Hasan Al-Nasser</td>\n",
       "      <td>$400.4B</td>\n",
       "      <td>$576B</td>\n",
       "      <td>$105.4B</td>\n",
       "    </tr>\n",
       "    <tr>\n",
       "      <th>3</th>\n",
       "      <td>JPMorgan Chase</td>\n",
       "      <td>Banking and Financial Services</td>\n",
       "      <td>2000</td>\n",
       "      <td>New York, New York</td>\n",
       "      <td>Jamie Dimon</td>\n",
       "      <td>$124.5B</td>\n",
       "      <td>$4T</td>\n",
       "      <td>$42.1B</td>\n",
       "    </tr>\n",
       "    <tr>\n",
       "      <th>4</th>\n",
       "      <td>China Construction Bank</td>\n",
       "      <td>Banking</td>\n",
       "      <td>2014</td>\n",
       "      <td>Beijing</td>\n",
       "      <td>Wang Zuji</td>\n",
       "      <td>$202.1B</td>\n",
       "      <td>$4.7T</td>\n",
       "      <td>$46.9B</td>\n",
       "    </tr>\n",
       "    <tr>\n",
       "      <th>...</th>\n",
       "      <td>...</td>\n",
       "      <td>...</td>\n",
       "      <td>...</td>\n",
       "      <td>...</td>\n",
       "      <td>...</td>\n",
       "      <td>...</td>\n",
       "      <td>...</td>\n",
       "      <td>...</td>\n",
       "    </tr>\n",
       "    <tr>\n",
       "      <th>245</th>\n",
       "      <td>Humana</td>\n",
       "      <td>Insurance</td>\n",
       "      <td>1961</td>\n",
       "      <td>Louisville, Kentucky</td>\n",
       "      <td>Bruce D. Broussard</td>\n",
       "      <td>$84.1B</td>\n",
       "      <td>$44.7B</td>\n",
       "      <td>$2.9B</td>\n",
       "    </tr>\n",
       "    <tr>\n",
       "      <th>246</th>\n",
       "      <td>General Dynamics</td>\n",
       "      <td>Aerospace &amp; Defense</td>\n",
       "      <td>1952</td>\n",
       "      <td>Reston, Virginia</td>\n",
       "      <td>Phebe N. Novakovic</td>\n",
       "      <td>$38.5B</td>\n",
       "      <td>$50.1B</td>\n",
       "      <td>$3.3B</td>\n",
       "    </tr>\n",
       "    <tr>\n",
       "      <th>247</th>\n",
       "      <td>Power Corp of Canada</td>\n",
       "      <td>Diversified Financials</td>\n",
       "      <td>1925</td>\n",
       "      <td>Montréal</td>\n",
       "      <td>Robert Jeffrey Orr</td>\n",
       "      <td>$57.9B</td>\n",
       "      <td>$507.1B</td>\n",
       "      <td>$2.4B</td>\n",
       "    </tr>\n",
       "    <tr>\n",
       "      <th>248</th>\n",
       "      <td>Qatar National Bank</td>\n",
       "      <td>Banking</td>\n",
       "      <td>1964</td>\n",
       "      <td>Doha</td>\n",
       "      <td>Abdulla Mubarak Nasser Al-Khalifa</td>\n",
       "      <td>$14.2B</td>\n",
       "      <td>$304.4B</td>\n",
       "      <td>$3.4B</td>\n",
       "    </tr>\n",
       "    <tr>\n",
       "      <th>249</th>\n",
       "      <td>Bayer</td>\n",
       "      <td>Drugs &amp; Biotechnology</td>\n",
       "      <td>1863</td>\n",
       "      <td>Leverkusen</td>\n",
       "      <td>Werner Baumann</td>\n",
       "      <td>$52.1B</td>\n",
       "      <td>$144.2B</td>\n",
       "      <td>$1.2B</td>\n",
       "    </tr>\n",
       "  </tbody>\n",
       "</table>\n",
       "<p>250 rows × 8 columns</p>\n",
       "</div>"
      ],
      "text/plain": [
       "                              Name of Company                        Industry  \\\n",
       "0                          Berkshire Hathaway          Diversified Financials   \n",
       "1                                        ICBC                         Banking   \n",
       "2    Saudi Arabian Oil Company (Saudi Aramco)            Oil & Gas Operations   \n",
       "3                              JPMorgan Chase  Banking and Financial Services   \n",
       "4                     China Construction Bank                         Banking   \n",
       "..                                        ...                             ...   \n",
       "245                                    Humana                       Insurance   \n",
       "246                          General Dynamics             Aerospace & Defense   \n",
       "247                      Power Corp of Canada          Diversified Financials   \n",
       "248                       Qatar National Bank                         Banking   \n",
       "249                                     Bayer           Drugs & Biotechnology   \n",
       "\n",
       "    Founded          Headquarters                                CEO  Revenue  \\\n",
       "0      1939       Omaha, Nebraska              Warren Edward Buffett  $276.1B   \n",
       "1      2011               Beijing                             Shu Gu  $208.1B   \n",
       "2      1933               Dhahran           Amin bin Hasan Al-Nasser  $400.4B   \n",
       "3      2000    New York, New York                        Jamie Dimon  $124.5B   \n",
       "4      2014               Beijing                          Wang Zuji  $202.1B   \n",
       "..      ...                   ...                                ...      ...   \n",
       "245    1961  Louisville, Kentucky                 Bruce D. Broussard   $84.1B   \n",
       "246    1952      Reston, Virginia                 Phebe N. Novakovic   $38.5B   \n",
       "247    1925              Montréal                 Robert Jeffrey Orr   $57.9B   \n",
       "248    1964                  Doha  Abdulla Mubarak Nasser Al-Khalifa   $14.2B   \n",
       "249    1863            Leverkusen                     Werner Baumann   $52.1B   \n",
       "\n",
       "      Assets  Profits  \n",
       "0    $958.8B   $89.8B  \n",
       "1      $5.5T     $54B  \n",
       "2      $576B  $105.4B  \n",
       "3        $4T   $42.1B  \n",
       "4      $4.7T   $46.9B  \n",
       "..       ...      ...  \n",
       "245   $44.7B    $2.9B  \n",
       "246   $50.1B    $3.3B  \n",
       "247  $507.1B    $2.4B  \n",
       "248  $304.4B    $3.4B  \n",
       "249  $144.2B    $1.2B  \n",
       "\n",
       "[250 rows x 8 columns]"
      ]
     },
     "execution_count": 50,
     "metadata": {},
     "output_type": "execute_result"
    }
   ],
   "source": [
    "%%time\n",
    "account_DFrame = get_final_dict(account)\n",
    "account_DFrame"
   ]
  },
  {
   "cell_type": "code",
   "execution_count": 51,
   "id": "9a654210",
   "metadata": {},
   "outputs": [],
   "source": [
    "account_DFrame.to_csv('Comapny_Details/Top_250_Company_details.csv', index=None)"
   ]
  },
  {
   "cell_type": "markdown",
   "id": "3e0390ae",
   "metadata": {},
   "source": [
    "# Summary\n",
    "\n",
    "\n",
    "- The Scraping was done using Python libraries such as Requests, BeatifulSoup for extracting the data\n",
    "- Scraping the Top companies from Forbes Website and storing as 7 different functions such as Rank,Name of the Company,Country,Sales,Profit,Assets,Market Value.\n",
    "- Parsed all the scraped data into a csv folder containing 2 csv files containing 2000 rows and 7 columns and another one containing 250 rows and 8 columns."
   ]
  },
  {
   "cell_type": "markdown",
   "id": "64c124e6",
   "metadata": {},
   "source": [
    "# Future work\n",
    "- Extracting more details of the project and creator by accessing the `project links` and `creator links`\n",
    "- We can now work forward to explore this data more and more to fetch meaningful information out of it.\n",
    "- With all the insights , and further analysis into the data, we can have answers to a lot of questions like -\n",
    "- We can get what will be the top companies for the week, for the month etc"
   ]
  },
  {
   "cell_type": "markdown",
   "id": "62c95448",
   "metadata": {},
   "source": [
    "# References\n",
    "(1) Python offical documentation. https://docs.python.org/3/\n",
    "\n",
    "(2) Requests library. https://pypi.org/project/requests/\n",
    "\n",
    "(3) Beautiful Soup documentation. https://www.crummy.com/software/BeautifulSoup/bs4/doc/\n",
    "\n",
    "(4) Pandas library documentation. https://pandas.pydata.org/docs/\n",
    "\n",
    "(5) Forbes website. https://www.forbes.com/?sh=44b2a1d42254"
   ]
  },
  {
   "cell_type": "code",
   "execution_count": null,
   "id": "1458a01b",
   "metadata": {},
   "outputs": [
    {
     "data": {
      "application/javascript": [
       "window.require && require([\"base/js/namespace\"],function(Jupyter){Jupyter.notebook.save_checkpoint()})"
      ],
      "text/plain": [
       "<IPython.core.display.Javascript object>"
      ]
     },
     "metadata": {},
     "output_type": "display_data"
    }
   ],
   "source": [
    "import jovian\n",
    "jovian.commit(files=['Comapny_Details'], outputs=[\"Web_Scraping_Project.ipynb\"])"
   ]
  },
  {
   "cell_type": "code",
   "execution_count": null,
   "id": "1cfbf945",
   "metadata": {},
   "outputs": [],
   "source": []
  }
 ],
 "metadata": {
  "kernelspec": {
   "display_name": "Python 3 (ipykernel)",
   "language": "python",
   "name": "python3"
  },
  "language_info": {
   "codemirror_mode": {
    "name": "ipython",
    "version": 3
   },
   "file_extension": ".py",
   "mimetype": "text/x-python",
   "name": "python",
   "nbconvert_exporter": "python",
   "pygments_lexer": "ipython3",
   "version": "3.9.7"
  }
 },
 "nbformat": 4,
 "nbformat_minor": 5
}
